{
 "cells": [
  {
   "cell_type": "code",
   "execution_count": 1,
   "metadata": {},
   "outputs": [
    {
     "name": "stdout",
     "output_type": "stream",
     "text": [
      "현재 작업 디렉토리: /home/siinwoo/wsl-codes/Security-TIL/dangerous-ai-main/3장/data\n"
     ]
    },
    {
     "data": {
      "text/plain": [
       "['rf_model.joblib',\n",
       " 'dog.png',\n",
       " 'model.joblib',\n",
       " 'malware.exe',\n",
       " 'extract.py',\n",
       " 'normal.exe']"
      ]
     },
     "execution_count": 1,
     "metadata": {},
     "output_type": "execute_result"
    }
   ],
   "source": [
    "import shutil\n",
    "import os\n",
    "\n",
    "project_path = '/home/siinwoo/wsl-codes/Security-TIL/dangerous-ai-main/3장/data'\n",
    "# 현재 경로를 /content/drive로 설정\n",
    "os.chdir(project_path)\n",
    "print(\"현재 작업 디렉토리:\", os.getcwd())\n",
    "os.listdir(project_path)"
   ]
  },
  {
   "cell_type": "code",
   "execution_count": null,
   "metadata": {},
   "outputs": [],
   "source": [
    "import csv, os, pefile\n",
    "import math\n",
    "import array\n",
    "import random\n",
    "import pandas as pd\n",
    "\n",
    "import extract\n",
    "\n",
    "def get_text_data_entropy(pe):\n",
    "    result = [0.0, 0.0]\n",
    "    for section in pe.sections:\n",
    "        s_name = section.Name.split(b'\\x00')[0]\n",
    "        if s_name == b\".text\":\n",
    "            result[0] = section.get_entropy()\n",
    "        elif s_name == b\".data\":\n",
    "            result[1] = section.get_entropy()\n",
    "    return result"
   ]
  },
  {
   "cell_type": "code",
   "execution_count": null,
   "metadata": {},
   "outputs": [],
   "source": [
    "\n",
    "\n",
    "def write_text_entropy(ben, mal, loo):\n",
    "    ben_pe = pefile.PE(ben)\n",
    "    mal_pe = pefile.PE(mal)\n",
    "\n",
    "    ben_en = get_text_data_entropy(ben_pe)\n",
    "    mal_en = get_text_data_entropy(mal_pe)\n",
    "\n",
    "    insert_mul = loo\n",
    "    text_padding = mal_pe.OPTIONAL_HEADER.FileAlignment * insert_mul\n",
    "\n",
    "    start = None\n",
    "    for section in mal_pe.sections:\n",
    "        "
   ]
  },
  {
   "cell_type": "code",
   "execution_count": null,
   "metadata": {},
   "outputs": [],
   "source": [
    "mal = 'malware.exe'\n",
    "after_t = 'modified_pe_text.exe'\n",
    "after_d = 'modified_pe_data.exe'\n",
    "\n",
    "count = 0\n",
    "diff_bak = 10\n",
    "\n",
    "for i in range(1, 10):\n",
    "    diff, e = write_text_ent"
   ]
  }
 ],
 "metadata": {
  "kernelspec": {
   "display_name": ".venv",
   "language": "python",
   "name": "python3"
  },
  "language_info": {
   "codemirror_mode": {
    "name": "ipython",
    "version": 3
   },
   "file_extension": ".py",
   "mimetype": "text/x-python",
   "name": "python",
   "nbconvert_exporter": "python",
   "pygments_lexer": "ipython3",
   "version": "3.11.12"
  }
 },
 "nbformat": 4,
 "nbformat_minor": 2
}
